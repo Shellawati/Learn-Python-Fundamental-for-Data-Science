{
  "nbformat": 4,
  "nbformat_minor": 0,
  "metadata": {
    "colab": {
      "name": "Python Fundamental for Data Science",
      "provenance": [],
      "authorship_tag": "ABX9TyO/1sTP0Rdq87LD0C3VDFos"
    },
    "kernelspec": {
      "name": "python3",
      "display_name": "Python 3"
    },
    "language_info": {
      "name": "python"
    }
  },
  "cells": [
    {
      "cell_type": "markdown",
      "source": [
        "# Code Hello Word\n",
        "\n"
      ],
      "metadata": {
        "id": "iPw-EBUWYi10"
      }
    },
    {
      "cell_type": "code",
      "source": [
        "print ('Hello World') #petik ' atau \"\" menampilkan perintah yang sama\n",
        "print (\"Hello World\")"
      ],
      "metadata": {
        "id": "-tiI-OXRYpUJ"
      },
      "execution_count": null,
      "outputs": []
    },
    {
      "cell_type": "markdown",
      "source": [
        "**Note : setiap perintah *print* yang digunakan akan mencetak baris baru.**\n",
        "setiap tanda \"#\" untuk membuat ***comment ***pada script.\n",
        "\n",
        "Tugas Praktek:\n",
        "1. Tampilkan hasil perhitungan(20*2+6) pada baris pertama\n",
        "2. Tampilkan teks \"Academy DQLab\" pada baris kedua"
      ],
      "metadata": {
        "id": "-3j7ug0BY1cJ"
      }
    },
    {
      "cell_type": "code",
      "source": [
        "print (20*2+6) #fungsi matematika\n",
        "print (\"Academy DQLab\") #fungsi mencetak kalimat"
      ],
      "metadata": {
        "id": "kc8LBoYkY-Dr"
      },
      "execution_count": null,
      "outputs": []
    },
    {
      "cell_type": "markdown",
      "source": [
        "**bold text** Printing Data Type"
      ],
      "metadata": {
        "id": "PEPrh4jJaS_Y"
      }
    },
    {
      "cell_type": "code",
      "source": [
        "#tipe data Boolean\n",
        "print (True) \n",
        "\n",
        "#tipe data string\n",
        "print (\"Ayo belajar Python\")\n",
        "print('Belajar Python sangat Mudah di DQlab')\n",
        "\n",
        "#tipe data integer\n",
        "print (20)\n",
        "\n",
        "#tipe data Float\n",
        "print (3.14)\n",
        "\n",
        "#tipe data List\n",
        "print ([1 ,2 ,3 ,4 ,5])\n",
        "print ([\"satu\", \"dua\", \"tiga\"])\n",
        "\n",
        "#tipe data Tuple\n",
        "print((1 ,2 ,3 ,4 ,5))\n",
        "print ((\"satu\", \"dua\", \"tiga\"))\n",
        "\n",
        "#tipe data Dictionary\n",
        "print({\"nama\":\"Budi\", 'umur':20})\n",
        "\n",
        "#tipe data Dictionary dimasukkan ke dalam variabel biodata \n",
        "biodata = {\"nama\":\"Andi\", 'umur': 21} #proses inisialisasivaroabel biodata\n",
        "print(biodata) #proses pencetakan variabel biodata yang berisi tipe data Dictionary\n",
        "\n",
        "type(biodata) #proses untuk mengecek jenis tipe data. akan tampil\n",
        "\n",
        "\n",
        "var_string = \"Belajar Python DQLAB\"\n",
        "var_int = 10\n",
        "var_float = 3.14\n",
        "var_list = [1, 2, 3, 4]\n",
        "var_tuple = (\"satu\", \"dua\", \"tiga\")\n",
        "var_dict = {\"nama\":\"Andi\", 'umur': 20}\n",
        "\n",
        "print(var_string)\n",
        "print(var_int)\n",
        "print(var_float)\n",
        "print(var_list)\n",
        "print(var_tuple)\n",
        "print(var_dict)\n",
        "\n",
        "print(type(var_string))\n",
        "print(type(var_int))\n",
        "print(type(var_float))\n",
        "print(type(var_list))\n",
        "print(type(var_tuple))\n",
        "print(type(var_dict))"
      ],
      "metadata": {
        "id": "pbmTAsqwaYVN"
      },
      "execution_count": null,
      "outputs": []
    },
    {
      "cell_type": "markdown",
      "source": [
        "# Struktur Kontrol: Percabangan Keputusan\n",
        "\n",
        "**IF Statement**"
      ],
      "metadata": {
        "id": "YJtXIUCJsMoK"
      }
    },
    {
      "cell_type": "code",
      "source": [
        "i = 10 #inisialisasi variable i yang memiliki nilai 10\n",
        "\n",
        "if(i==10): #pengecekan nilai i apakah sama dengan 10\n",
        "    print(\"ini adalah angka 10\") #jika TRUE maka akan mencetak kalimat ini"
      ],
      "metadata": {
        "id": "n9yy5NhEtTET"
      },
      "execution_count": null,
      "outputs": []
    },
    {
      "cell_type": "code",
      "source": [
        "i = 7 #inisialisasi variable i yang memiliki nilai 10\n",
        "\n",
        "if(i==10): #pengecekan nilai i apakah sama dengan 10\n",
        "  print(\"ini adalah angka 10\") #jika TRUE maka akan mencetak kalimat ini"
      ],
      "metadata": {
        "id": "czu1ZeTftzXw"
      },
      "execution_count": 18,
      "outputs": []
    },
    {
      "cell_type": "markdown",
      "source": [
        "**IF... ELSE...**"
      ],
      "metadata": {
        "id": "illpNw88uUAW"
      }
    },
    {
      "cell_type": "code",
      "source": [
        "i = 10 #inisialisasi variable i yang memiliki nilai 10\n",
        "if(i==10): #pengecekan nilai i apakah sama dengan 10\n",
        "    print(\"ini adalah angka 10\") #jika TRUE maka akan mencetak kalimat ini\n",
        "else:\n",
        "    print(\"bukan angka 10\") #jika FALSE akan mencetak kalimat ini\n",
        "\n",
        "#Tugas\n",
        "i = 5 #inisialisasi variable i yang memiliki nilai 10\n",
        "\n",
        "if(i==10): #pengecekan nilai i apakah sama dengan 10\n",
        "    print(\"ini adalah angka 10\") #jika TRUE maka akan mencetak kalimat ini\n",
        "else:\n",
        "    print(\"bukan angka 10\") #jika FALSE akan mencetak kalimat ini"
      ],
      "metadata": {
        "id": "pLN-AuWVuZTQ"
      },
      "execution_count": null,
      "outputs": []
    },
    {
      "cell_type": "markdown",
      "source": [
        "**IF... ELIF... ELSE...**"
      ],
      "metadata": {
        "id": "NaYuovhNusOL"
      }
    },
    {
      "cell_type": "code",
      "source": [
        "i=5\n",
        "\n",
        "if(i==5):\n",
        "     print(\"ini adalah angka 5\")\n",
        "elif(i>5):\n",
        "     print(\"lebih besar dari 5\")\n",
        "else:\n",
        "     print(\"lebih kecil dari 5\")\n",
        "\n",
        "\n",
        "#Modifikasi#\n",
        "i=7\n",
        "\n",
        "if(i==5):\n",
        "     print(\"ini adalah angka 5\")\n",
        "elif(i>5):\n",
        "     print(\"lebih besar dari 5\")\n",
        "else:\n",
        "     print(\"lebih kecil dari 5\")\n",
        "\n",
        "## Penjelasan: Untuk i=7, nilai variable i tidak memenuhi syarat dari kondisi pertama yaitu apakah i = 5? Selanjutnya, nilai variabel i dicek pada kondisi kedua, apakah i > 5? Kondisi kedua ini memenuhi bahwa i > 5, sehingga dicetaklah pernyataan \"lebih besar dari 5\".\n",
        "\n",
        "\n",
        "#Ubah kembali nilai variable i menjadi 3\n",
        "i=3\n",
        "\n",
        "if(i==5):\n",
        "     print(\"ini adalah angka 5\")\n",
        "elif(i>5):\n",
        "     print(\"lebih besar dari 5\")\n",
        "else:\n",
        "     print(\"lebih kecil dari 5\")\n",
        "\n",
        "#Penjelasan : Untuk i=3, nilai variable i tidak memenuhi syarat dari kondisi pertama yaitu apakah i = 5? Selanjutnya, nilai variabel i dicek pada kondisi kedua, apakah i > 5? Kondisi kedua ini masih tidak memenuhi bahwa i > 5. Dengan demikian kondisi ketiga sebagai piliha terakhir yang akan dicetak yaitu pernyataan \"lebih kecil dari 5\".\n"
      ],
      "metadata": {
        "id": "u6rz-lSQuxOA"
      },
      "execution_count": null,
      "outputs": []
    },
    {
      "cell_type": "markdown",
      "source": [
        "**NESTED IF**"
      ],
      "metadata": {
        "id": "i9h0aepBvh6x"
      }
    },
    {
      "cell_type": "code",
      "source": [
        "i = 2\n",
        "\n",
        "if(i < 7): #kondisi 1.0\n",
        "\tprint(\"nilai i kurang dari 7\")\n",
        "\tif (i < 3): #kondisi 1.1\n",
        "\t\tprint(\"nilai i kurang dari 7 dan kurang dari 3\")\n",
        "\telse :\n",
        "\t\t\tprint(\"nilai i kurang dari 7 tapi lebih dari 3\")"
      ],
      "metadata": {
        "id": "A7AOk_5FvvnS"
      },
      "execution_count": null,
      "outputs": []
    },
    {
      "cell_type": "markdown",
      "source": [
        "# Operator Matematika dan Pembanding"
      ],
      "metadata": {
        "id": "X62kiUlcwJ4Y"
      }
    },
    {
      "cell_type": "markdown",
      "source": [
        "**Praktik Operasi Matematika**"
      ],
      "metadata": {
        "id": "AJnsgmfRwOCy"
      }
    },
    {
      "cell_type": "code",
      "source": [
        "a = 10\n",
        "b = 5\n",
        "\n",
        "selisih = a - b\n",
        "jumlah = a + b\n",
        "kali = a * b\n",
        "bagi = a / b\n",
        "\n",
        "print(\"Hasil penjumlahan a dan b adalah\", jumlah)\n",
        "print(\"Selisih a dan b adalah :\",selisih)\n",
        "print(\"Hasil perkalian a dan b adalah :\",kali)\n",
        "print(\"Hasil pembagian a dan b adalah:\",bagi)\t\t"
      ],
      "metadata": {
        "id": "hCpvtr6cwRJ3"
      },
      "execution_count": null,
      "outputs": []
    },
    {
      "cell_type": "markdown",
      "source": [
        "**Operasi modulus**"
      ],
      "metadata": {
        "id": "fMuN4QfJwV8A"
      }
    },
    {
      "cell_type": "code",
      "source": [
        "c=10\n",
        "d=3\n",
        "\n",
        "modulus = c % d\n",
        "print(\"Hasil modulus\",modulus)\t\t\t\t"
      ],
      "metadata": {
        "id": "824hu1YSwZ8m"
      },
      "execution_count": null,
      "outputs": []
    },
    {
      "cell_type": "markdown",
      "source": [
        "**Tugas Mid Praktek**"
      ],
      "metadata": {
        "id": "Qb4eSg_Rwe9f"
      }
    },
    {
      "cell_type": "code",
      "source": [
        "angka=5\n",
        "\n",
        "if(angka % 2 == 0):\n",
        "\tprint(\"angka termasuk bilangan genap\")\n",
        "else:\n",
        "\tprint(\"angka termasuk bilangan ganjil\")"
      ],
      "metadata": {
        "id": "ycrJrJxdwh_R"
      },
      "execution_count": null,
      "outputs": []
    },
    {
      "cell_type": "markdown",
      "source": [
        "# Perulangan\n",
        "Perulangan atau looping merupakan salah satu elemen atau fungsi yang bisa dikatakan sangat menunjang untuk kebutuhan programming dan data science."
      ],
      "metadata": {
        "id": "zs5XWDNswrf6"
      }
    },
    {
      "cell_type": "markdown",
      "source": [
        "**while**"
      ],
      "metadata": {
        "id": "kJdc8zeyw2dC"
      }
    },
    {
      "cell_type": "code",
      "source": [
        "#nilai awal j =0\n",
        "j = 0 \n",
        "\n",
        "#ketika j kurang dari 6 lakukan perulangan, jika tidak stop perulangan\n",
        "while j<6: \n",
        "    #lakukan perintah ini ketika perulangan\n",
        "    print(\"Ini adalah perulangan ke -\",j) \n",
        "    #setiap kali diakhir perulangan update nilai dengan ditambah 1.\n",
        "    j=j+1 "
      ],
      "metadata": {
        "id": "hSblplyWw7mm"
      },
      "execution_count": null,
      "outputs": []
    },
    {
      "cell_type": "markdown",
      "source": [
        "**for (1)**\n",
        "\n",
        "Maksud dari fungsi for i in range (1,6) adalah, jika kita konversi pada JAVA atau C sama dengan for(i=1;i<6i++). Jika dikonversi menjadi kalimat maka akan menjadi “perulangan dimulai dari nilai i = 1 hingga nilai i kurang dari 6 dimana setiap kali perulangan nilai i akan selalu ditambah 1”. Jika nilai i sudah mencapai 6 perulangan akan dihentikan."
      ],
      "metadata": {
        "id": "jikXztOtxBha"
      }
    },
    {
      "cell_type": "code",
      "source": [
        "for i in range (1,6): #perulangan for sebagai inisialisasi dari angka 1 hingga angka yang lebih kecil daripada 6.\n",
        "\n",
        "    print(\"Ini adalah perulangan ke -\", i) #perintah jika looping akan tetap berjalan"
      ],
      "metadata": {
        "id": "yDdIE3vwxE04"
      },
      "execution_count": null,
      "outputs": []
    },
    {
      "cell_type": "markdown",
      "source": [
        "**for (2) with access element**\n",
        "\n",
        "**Tugas Praktek**:\n",
        "Buatlah sebuah program yang bisa mengeluarkan angka 1 sampai 10.\n",
        "Tampilan akan menunjukan \"Angka ganjil 1\" untuk angka ganjil dan \"Angka genap 2\" untuk angka genap. (Menggunakan looping for)\n",
        "Note: Kode dasar sudah disertakan, Anda cukup mengganti tanda # dengan nilai-nilai yang sesuai."
      ],
      "metadata": {
        "id": "WUjU6Fa2xXoX"
      }
    },
    {
      "cell_type": "code",
      "source": [
        "count=[1,2,3,4,5] #elemen list\n",
        "\n",
        "for number in count: #looping untuk menampilkan semua elemen pada count\n",
        "    print(\"Ini adalah element count : \", number) #menampilkan elemen list pada count"
      ],
      "metadata": {
        "id": "i0ysbBCwxefr"
      },
      "execution_count": null,
      "outputs": []
    },
    {
      "cell_type": "code",
      "source": [
        "for i in range (1,11):\n",
        "\tif(i %2 == 0):\n",
        "\t\tprint(\"Angka genap\",i)\n",
        "\telse:\n",
        "\t\tprint(\"Angka ganjil\",i)"
      ],
      "metadata": {
        "id": "uFYj-loAx1sf"
      },
      "execution_count": null,
      "outputs": []
    },
    {
      "cell_type": "markdown",
      "source": [
        "# Function"
      ],
      "metadata": {
        "id": "LbgYCJxJx9Xq"
      }
    },
    {
      "cell_type": "markdown",
      "source": [
        "**Membuat fungsi sendiri**\n",
        "Fungsi pada Python, dibuat dengan kata kunci def  kemudian diikuti dengan nama fungsinya."
      ],
      "metadata": {
        "id": "zUn2pEEByPSJ"
      }
    },
    {
      "cell_type": "code",
      "source": [
        "def nama_fungsi():\n",
        "    print (\"Hello ini Fungsi\")\n",
        "\n",
        "nama_fungsi()\n",
        "\n",
        "# Membuat Fungsi\n",
        "def salam():\n",
        "    print(\"Hello, Selamat Pagi\")\n",
        "\n",
        "\n",
        "\n",
        "## Pemanggilan Fungsi\n",
        "salam()"
      ],
      "metadata": {
        "id": "slk2rJK7ySVU"
      },
      "execution_count": null,
      "outputs": []
    },
    {
      "cell_type": "markdown",
      "source": [
        "**Parameter pada fungsi**"
      ],
      "metadata": {
        "id": "5z9KMMtGyuj4"
      }
    },
    {
      "cell_type": "code",
      "source": [
        "def luas_segitiga(alas, tinggi): #alas dan tinggi merupakan parameter yang masuk\n",
        "    luas = (alas * tinggi) / 2\n",
        "    print(\"Luas segitiga: %f\" % luas);\n",
        "\n",
        "\n",
        "\n",
        "# Pemanggilan fungsi\n",
        "##4 dan 6 merupakan parameter yang diinputkan kedalam fungsi luas segitiga\n",
        "luas_segitiga(4, 6) "
      ],
      "metadata": {
        "id": "WCIuoe2hyzbb"
      },
      "execution_count": null,
      "outputs": []
    },
    {
      "cell_type": "markdown",
      "source": [
        "**Fungsi dengan Return Value**\n",
        "\n",
        "\n",
        " Cara mengembalikan nilai adalah menggunakan kata kunci return lalu diikuti dengan nilai atau variabel yang akan dikembalikan."
      ],
      "metadata": {
        "id": "WHuPcN7oy4NE"
      }
    },
    {
      "cell_type": "code",
      "source": [
        "#alas dan tinggi merupakan parameter yang masuk\n",
        "def luas_segitiga(alas, tinggi):\n",
        "    luas = (alas * tinggi) / 2\n",
        "    return luas\n",
        "\n",
        "\n",
        "# Pemanggilan fungsi\n",
        "##4 dan 6 merupakan parameter yang diinputkan kedalam fungsi luas segitiga \n",
        "print(\"Luas segitiga: %d\" % luas_segitiga(4, 6))"
      ],
      "metadata": {
        "id": "tOEqgZbCzFK-"
      },
      "execution_count": null,
      "outputs": []
    },
    {
      "cell_type": "markdown",
      "source": [
        "# Modul dan Package"
      ],
      "metadata": {
        "id": "Kx0A6LngzPE6"
      }
    },
    {
      "cell_type": "markdown",
      "source": [
        "**Import Package dan Menggunakan modul**"
      ],
      "metadata": {
        "id": "Fx0m_cHWzT5h"
      }
    },
    {
      "cell_type": "code",
      "source": [
        "import math\n",
        "print(\"Nilai pi adalah:\", math.pi)  # math.pi merupakan sintak untuk memanggil fungsi pi"
      ],
      "metadata": {
        "id": "QE4RVOIfzdf4"
      },
      "execution_count": null,
      "outputs": []
    },
    {
      "cell_type": "markdown",
      "source": [
        "**Import dengan Module Rename atau Alias**"
      ],
      "metadata": {
        "id": "B_YHdvMDziaA"
      }
    },
    {
      "cell_type": "code",
      "source": [
        "#menggunakan m sebagai module rename atau alias\n",
        "import math as m\n",
        "\n",
        "#m.pi merupakan sintak untuk memanggil fungsi\n",
        "print(\"Nilai pi adalah:\", m.pi)"
      ],
      "metadata": {
        "id": "LXxqroPJzm9G"
      },
      "execution_count": null,
      "outputs": []
    },
    {
      "cell_type": "markdown",
      "source": [
        "**Import Sebagian Fungsi**"
      ],
      "metadata": {
        "id": "1gsqO_6kzrfD"
      }
    },
    {
      "cell_type": "code",
      "source": [
        "from math import pi\n",
        "\n",
        "print(\"Nilai pi adalah\", pi)"
      ],
      "metadata": {
        "id": "h_hUYe5wzvpJ"
      },
      "execution_count": null,
      "outputs": []
    },
    {
      "cell_type": "markdown",
      "source": [
        "**Import Semua isi Moduls**"
      ],
      "metadata": {
        "id": "yFreor8pz0ge"
      }
    },
    {
      "cell_type": "code",
      "source": [
        "from math import *\n",
        "\n",
        "print(\"Nilai e adalah:\", e)"
      ],
      "metadata": {
        "id": "SOKRzVz2z3t7"
      },
      "execution_count": null,
      "outputs": []
    },
    {
      "cell_type": "markdown",
      "source": [
        "# Membaca dari File"
      ],
      "metadata": {
        "id": "kDjjmonTz79_"
      }
    },
    {
      "cell_type": "markdown",
      "source": [
        "**Membaca Teks File (CSV)**"
      ],
      "metadata": {
        "id": "GW1Jm_w50GOi"
      }
    },
    {
      "cell_type": "code",
      "source": [
        "import requests\n",
        "from contextlib import closing\n",
        "import csv\n",
        "\n",
        "# tentukan lokasi file, nama file, dan inisialisasi csv\n",
        "url = 'https://storage.googleapis.com/dqlab-dataset/penduduk_gender_head.csv'\n",
        "\n",
        "# baca file csv secara streaming \n",
        "with closing(requests.get(url, stream=True)) as r:\n",
        "    f = (line.decode('utf-8') for line in r.iter_lines())\n",
        "\n",
        "    reader = csv.reader(f, delimiter=',')\n",
        "\n",
        "    # membaca baris per baris\n",
        "    for row in reader:\n",
        "        print(row)"
      ],
      "metadata": {
        "id": "XdGViQBU0PwL"
      },
      "execution_count": null,
      "outputs": []
    },
    {
      "cell_type": "markdown",
      "source": [
        "**Membaca file CSV dengan menggunakan PANDAS**"
      ],
      "metadata": {
        "id": "y6QrUfDm0XS3"
      }
    },
    {
      "cell_type": "code",
      "source": [
        "import pandas as pd\n",
        "pd.set_option(\"display.max_columns\",50)\n",
        "\n",
        "table = pd.read_csv(\"https://storage.googleapis.com/dqlab-dataset/penduduk_gender_head.csv\")\n",
        "table.head()\n",
        "print(table)"
      ],
      "metadata": {
        "id": "72H3H2oP0axm"
      },
      "execution_count": null,
      "outputs": []
    },
    {
      "cell_type": "markdown",
      "source": [
        "# Grafik Dasar dengan Matplotlib"
      ],
      "metadata": {
        "id": "JAnIWnqk0jhz"
      }
    },
    {
      "cell_type": "markdown",
      "source": [
        "**Bar Chart**"
      ],
      "metadata": {
        "id": "FOr8MLaQ0oBi"
      }
    },
    {
      "cell_type": "code",
      "source": [
        "import pandas as pd\n",
        "import numpy as np\n",
        "import matplotlib.pyplot as plt\n",
        "\n",
        "\n",
        "table = pd.read_csv(\"https://storage.googleapis.com/dqlab-dataset/penduduk_gender_head.csv\")\n",
        "table.head()\n",
        "x_label = table['NAMA KELURAHAN']\n",
        "plt.bar(x=np.arange(len(x_label)),height=table['LAKI-LAKI WNI'])\n",
        "plt.show()"
      ],
      "metadata": {
        "id": "yvlO0nWR0vfK"
      },
      "execution_count": null,
      "outputs": []
    },
    {
      "cell_type": "markdown",
      "source": [
        "**Parameter dalam Grafik (Memberikan Nilai Axis dari data CSV)**"
      ],
      "metadata": {
        "id": "kYx7pPa_02u5"
      }
    },
    {
      "cell_type": "code",
      "source": [
        "import pandas as pd\n",
        "import numpy as np\n",
        "import matplotlib.pyplot as plt\n",
        "\n",
        "table = pd.read_csv(\"https://storage.googleapis.com/dqlab-dataset/penduduk_gender_head.csv\")\n",
        "table.head()\n",
        "\n",
        "x_label = table['NAMA KELURAHAN']\n",
        "plt.bar(x=np.arange(len(x_label)),height=table['LAKI-LAKI WNI'])\n",
        "plt.xticks(np.arange(len(x_label)), table['NAMA KELURAHAN'], rotation=30)\n",
        "plt.show()"
      ],
      "metadata": {
        "id": "8DM2xJNe06ZP"
      },
      "execution_count": null,
      "outputs": []
    },
    {
      "cell_type": "markdown",
      "source": [
        "**Menambah Title dan Label pada Grafik**"
      ],
      "metadata": {
        "id": "giG03Tsr0_8o"
      }
    },
    {
      "cell_type": "code",
      "source": [
        "import pandas as pd\n",
        "import numpy as np\n",
        "import matplotlib.pyplot as plt\n",
        "\n",
        "\n",
        "table = pd.read_csv(\"https://storage.googleapis.com/dqlab-dataset/penduduk_gender_head.csv\")\n",
        "table.head()\n",
        "\n",
        "x_label = table['NAMA KELURAHAN']\n",
        "plt.bar(x=np.arange(len(x_label)),height=table['LAKI-LAKI WNI'])\n",
        "plt.xticks(np.arange(len(x_label)), table['NAMA KELURAHAN'], rotation=90)\n",
        "plt.xlabel('Kelurahan di Jakarta Pusat')\n",
        "plt.ylabel('Jumlah Penduduk Laki - Laki')\n",
        "plt.title('Persebaran Jumlah Penduduk Laki- Laki di Jakarta Pusat')\n",
        "\n",
        "plt.show()"
      ],
      "metadata": {
        "id": "_AGd_81z1EY3"
      },
      "execution_count": null,
      "outputs": []
    }
  ]
}