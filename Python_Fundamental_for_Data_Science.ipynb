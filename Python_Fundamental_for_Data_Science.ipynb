{
  "nbformat": 4,
  "nbformat_minor": 0,
  "metadata": {
    "colab": {
      "name": "Python Fundamental for Data Science",
      "provenance": [],
      "authorship_tag": "ABX9TyP9cZ8HHny41MeOWeBpglcI",
      "include_colab_link": true
    },
    "kernelspec": {
      "name": "python3",
      "display_name": "Python 3"
    },
    "language_info": {
      "name": "python"
    }
  },
  "cells": [
    {
      "cell_type": "markdown",
      "metadata": {
        "id": "view-in-github",
        "colab_type": "text"
      },
      "source": [
        "<a href=\"https://colab.research.google.com/github/Shellawati/Learn-Python-Fundamental-for-Data-Science/blob/main/Python_Fundamental_for_Data_Science.ipynb\" target=\"_parent\"><img src=\"https://colab.research.google.com/assets/colab-badge.svg\" alt=\"Open In Colab\"/></a>"
      ]
    },
    {
      "cell_type": "markdown",
      "source": [
        "# Code Hello Word\n",
        "\n"
      ],
      "metadata": {
        "id": "iPw-EBUWYi10"
      }
    },
    {
      "cell_type": "code",
      "source": [
        "print ('Hello World') #petik ' atau \"\" menampilkan perintah yang sama\n",
        "print (\"Hello World\")"
      ],
      "metadata": {
        "colab": {
          "base_uri": "https://localhost:8080/"
        },
        "id": "-tiI-OXRYpUJ",
        "outputId": "7520553f-a22b-4236-f6c2-26b2a278fc4a"
      },
      "execution_count": 4,
      "outputs": [
        {
          "output_type": "stream",
          "name": "stdout",
          "text": [
            "Hello World\n",
            "Hello World\n"
          ]
        }
      ]
    },
    {
      "cell_type": "markdown",
      "source": [
        "**Note : setiap perintah *print* yang digunakan akan mencetak baris baru.**\n",
        "setiap tanda \"#\" untuk membuat ***comment ***pada script.\n",
        "\n",
        "Tugas Praktek:\n",
        "1. Tampilkan hasil perhitungan(20*2+6) pada baris pertama\n",
        "2. Tampilkan teks \"Academy DQLab\" pada baris kedua"
      ],
      "metadata": {
        "id": "-3j7ug0BY1cJ"
      }
    },
    {
      "cell_type": "code",
      "source": [
        "print (20*2+6) #fungsi matematika\n",
        "print (\"Academy DQLab\") #fungsi mencetak kalimat"
      ],
      "metadata": {
        "colab": {
          "base_uri": "https://localhost:8080/"
        },
        "id": "kc8LBoYkY-Dr",
        "outputId": "d498db57-7089-43f2-90b7-e6a79e593fb2"
      },
      "execution_count": 5,
      "outputs": [
        {
          "output_type": "stream",
          "name": "stdout",
          "text": [
            "46\n",
            "Academy DQLab\n"
          ]
        }
      ]
    },
    {
      "cell_type": "markdown",
      "source": [
        "# Printing Data Type"
      ],
      "metadata": {
        "id": "PEPrh4jJaS_Y"
      }
    },
    {
      "cell_type": "code",
      "source": [
        "#tipe data Boolean\n",
        "print (True) \n",
        "\n",
        "#tipe data string\n",
        "print (\"Ayo belajar Python\")\n",
        "print('Belajar Python sangat Mudah di DQlab')\n",
        "\n",
        "#tipe data integer\n",
        "print (20)\n",
        "\n",
        "#tipe data Float\n",
        "print (3.14)\n",
        "\n",
        "#tipe data List\n",
        "print ([1 ,2 ,3 ,4 ,5])\n",
        "print ([\"satu\", \"dua\", \"tiga\"])\n",
        "\n",
        "#tipe data Tuple\n",
        "print((1 ,2 ,3 ,4 ,5))\n",
        "print ((\"satu\", \"dua\", \"tiga\"))\n",
        "\n",
        "#tipe data Dictionary\n",
        "print({\"nama\":\"Budi\", 'umur':20})\n",
        "\n",
        "#tipe data Dictionary dimasukkan ke dalam variabel biodata \n",
        "biodata = {\"nama\":\"Andi\", 'umur': 21} #proses inisialisasivaroabel biodata\n",
        "print(biodata) #proses pencetakan variabel biodata yang berisi tipe data Dictionary\n",
        "\n",
        "type(biodata) #proses untuk mengecek jenis tipe data. akan tampil\n",
        "\n",
        "\n",
        "var_string = \"Belajar Python DQLAB\"\n",
        "var_int = 10\n",
        "var_float = 3.14\n",
        "var_list = [1, 2, 3, 4]\n",
        "var_tuple = (\"satu\", \"dua\", \"tiga\")\n",
        "var_dict = {\"nama\":\"Andi\", 'umur': 20}\n",
        "\n",
        "print(var_string)\n",
        "print(var_int)\n",
        "print(var_float)\n",
        "print(var_list)\n",
        "print(var_tuple)\n",
        "print(var_dict)\n",
        "\n",
        "print(type(var_string))\n",
        "print(type(var_int))\n",
        "print(type(var_float))\n",
        "print(type(var_list))\n",
        "print(type(var_tuple))\n",
        "print(type(var_dict))"
      ],
      "metadata": {
        "colab": {
          "base_uri": "https://localhost:8080/"
        },
        "id": "pbmTAsqwaYVN",
        "outputId": "2c4c5ea3-7ecc-45da-818a-cc9f361d2844"
      },
      "execution_count": 12,
      "outputs": [
        {
          "output_type": "stream",
          "name": "stdout",
          "text": [
            "True\n",
            "Ayo belajar Python\n",
            "Belajar Python sangat Mudah di DQlab\n",
            "20\n",
            "3.14\n",
            "[1, 2, 3, 4, 5]\n",
            "['satu', 'dua', 'tiga']\n",
            "(1, 2, 3, 4, 5)\n",
            "('satu', 'dua', 'tiga')\n",
            "{'nama': 'Budi', 'umur': 20}\n",
            "{'nama': 'Andi', 'umur': 21}\n",
            "Belajar Python DQLAB\n",
            "10\n",
            "3.14\n",
            "[1, 2, 3, 4]\n",
            "('satu', 'dua', 'tiga')\n",
            "{'nama': 'Andi', 'umur': 20}\n",
            "<class 'str'>\n",
            "<class 'int'>\n",
            "<class 'float'>\n",
            "<class 'list'>\n",
            "<class 'tuple'>\n",
            "<class 'dict'>\n"
          ]
        }
      ]
    }
  ]
}